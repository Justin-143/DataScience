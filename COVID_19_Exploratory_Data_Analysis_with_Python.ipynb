import matplotlib.pyplot as plt
import pandas as pd
import numpy as np
from sklearn.impute import SimpleImputer

df=pd.read_csv(r'/covid_19_data.csv')

df.head()
*********************************************
#OUTPUT
*********************************************
Date	State	Country	Confirmed	Deaths	Recovered
0	2020-01-22	Anhui	Mainland China	1.0	0.0	0.0
1	2020-01-22	Beijing	Mainland China	14.0	0.0	0.0
2	2020-01-22	Chongqing	Mainland China	6.0	0.0	0.0
3	2020-01-22	Fujian	Mainland China	1.0	0.0	0.0
4	2020-01-22	Gansu	Mainland China	0.0	0.0	0.0


df.drop(['SNo','Last Update'],axis=1,inplace=True)
df.rename(columns={'ObservationDate':'Date','Province/State':'State','Country/Region':'Country'},inplace=True)

df['Date'] = pd.to_datetime(df['Date'])

imputer = SimpleImputer(strategy='constant', fill_value=0)
df2 = pd.DataFrame(imputer.fit_transform(df),columns=df.columns)

df3 = df2.groupby(['Date','Country'])[['Confirmed','Deaths','Recovered']].sum().reset_index()

df3 = df3.groupby(['Country','Date'])[['Confirmed','Deaths','Recovered']].sum().reset_index()

df3.head(20)
*********************************************
#OUTPUT
*********************************************

Country	Date	Confirmed	Deaths	Recovered
0	Azerbaijan	2020-02-28	1.0	0.0	0.0
1	('St. Martin',)	2020-03-10	2.0	0.0	0.0
2	Afghanistan	2020-02-24	1.0	0.0	0.0
3	Afghanistan	2020-02-25	1.0	0.0	0.0
4	Afghanistan	2020-02-26	1.0	0.0	0.0
5	Afghanistan	2020-02-27	1.0	0.0	0.0
6	Afghanistan	2020-02-28	1.0	0.0	0.0
7	Afghanistan	2020-02-29	1.0	0.0	0.0
8	Afghanistan	2020-03-01	1.0	0.0	0.0
9	Afghanistan	2020-03-02	1.0	0.0	0.0
10	Afghanistan	2020-03-03	2.0	0.0	0.0
11	Afghanistan	2020-03-04	4.0	0.0	0.0
12	Afghanistan	2020-03-05	4.0	0.0	0.0
13	Afghanistan	2020-03-06	4.0	0.0	0.0
14	Afghanistan	2020-03-07	4.0	0.0	0.0
15	Afghanistan	2020-03-08	5.0	0.0	0.0
16	Afghanistan	2020-03-09	7.0	0.0	0.0
17	Afghanistan	2020-03-10	8.0	0.0	0.0
18	Afghanistan	2020-03-11	11.0	0.0	0.0
19	Afghanistan	2020-03-12	12.0	0.0	0.0


countries = df3['Country'].unique()
len(countries)
*********************************************
#OUTPUT
*********************************************
229

for idx in range(0,len(countries)):
    c=df3[df3['Country']==countries[idx]].reset_index()
    plt.scatter(np.arange(0,len(c)),c['Confirmed'],color='blue',label='Confirmed')
    plt.scatter(np.arange(0,len(c)),c['Recovered'],color='green',label='Recovered')
    plt.scatter(np.arange(0,len(c)),c['Deaths'],color='red',label='Deaths')
    plt.title(countries[idx])
    plt.xlabel('Days since the first suspect')
    plt.ylabel('Nummber of cases')
    plt.legend()
    plt.show()
*********************************************
#OUTPUT
*********************************************
Graph Diagrams

df4 = df3.groupby(['Date'])[['Confirmed','Deaths','Recovered']].sum().reset_index()

C = df4
plt.scatter(np.arange(0,len(C)),C['Confirmed'],color='blue',label='Confirmed')
plt.scatter(np.arange(0,len(C)),C['Recovered'],color='green',label='Recovered')
plt.scatter(np.arange(0,len(C)),C['Deaths'],color='red',label='Deaths')
plt.title('WorldWide')
plt.xlabel('Days since the first suspect')
plt.ylabel('Nummber of cases')
plt.legend()
plt.show()
